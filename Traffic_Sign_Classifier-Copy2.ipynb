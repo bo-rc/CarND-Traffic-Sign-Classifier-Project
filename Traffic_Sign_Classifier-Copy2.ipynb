{
 "cells": [
  {
   "cell_type": "markdown",
   "metadata": {},
   "source": [
    "# Self-Driving Car Engineer Nanodegree\n",
    "\n",
    "## Deep Learning\n",
    "\n",
    "## Project: Build a Traffic Sign Recognition Classifier\n",
    "\n",
    "In this notebook, a template is provided for you to implement your functionality in stages, which is required to successfully complete this project. If additional code is required that cannot be included in the notebook, be sure that the Python code is successfully imported and included in your submission if necessary. \n",
    "\n",
    "> **Note**: Once you have completed all of the code implementations, you need to finalize your work by exporting the iPython Notebook as an HTML document. Before exporting the notebook to html, all of the code cells need to have been run so that reviewers can see the final implementation and output. You can then export the notebook by using the menu above and navigating to  \\n\",\n",
    "    \"**File -> Download as -> HTML (.html)**. Include the finished document along with this notebook as your submission. \n",
    "\n",
    "In addition to implementing code, there is a writeup to complete. The writeup should be completed in a separate file, which can be either a markdown file or a pdf document. There is a [write up template](https://github.com/udacity/CarND-Traffic-Sign-Classifier-Project/blob/master/writeup_template.md) that can be used to guide the writing process. Completing the code template and writeup template will cover all of the [rubric points](https://review.udacity.com/#!/rubrics/481/view) for this project.\n",
    "\n",
    "The [rubric](https://review.udacity.com/#!/rubrics/481/view) contains \"Stand Out Suggestions\" for enhancing the project beyond the minimum requirements. The stand out suggestions are optional. If you decide to pursue the \"stand out suggestions\", you can include the code in this Ipython notebook and also discuss the results in the writeup file.\n",
    "\n",
    "\n",
    ">**Note:** Code and Markdown cells can be executed using the **Shift + Enter** keyboard shortcut. In addition, Markdown cells can be edited by typically double-clicking the cell to enter edit mode."
   ]
  },
  {
   "cell_type": "markdown",
   "metadata": {},
   "source": [
    "---\n",
    "## Step 0: Load The Data"
   ]
  },
  {
   "cell_type": "code",
   "execution_count": 1,
   "metadata": {
    "collapsed": true
   },
   "outputs": [],
   "source": [
    "# Load pickled data\n",
    "import pickle\n",
    "\n",
    "# TODO: Fill this in based on where you saved the training and testing data\n",
    "\n",
    "training_file = './train.p'\n",
    "validation_file= './valid.p'\n",
    "testing_file = './test.p'\n",
    "\n",
    "with open(training_file, mode='rb') as f:\n",
    "    train = pickle.load(f)\n",
    "with open(validation_file, mode='rb') as f:\n",
    "    valid = pickle.load(f)\n",
    "with open(testing_file, mode='rb') as f:\n",
    "    test = pickle.load(f)\n",
    "    \n",
    "X_train, y_train = train['features'], train['labels']\n",
    "X_valid, y_valid = valid['features'], valid['labels']\n",
    "X_test, y_test = test['features'], test['labels']"
   ]
  },
  {
   "cell_type": "markdown",
   "metadata": {},
   "source": [
    "---\n",
    "\n",
    "## Step 1: Dataset Summary & Exploration\n",
    "\n",
    "The pickled data is a dictionary with 4 key/value pairs:\n",
    "\n",
    "- `'features'` is a 4D array containing raw pixel data of the traffic sign images, (num examples, width, height, channels).\n",
    "- `'labels'` is a 1D array containing the label/class id of the traffic sign. The file `signnames.csv` contains id -> name mappings for each id.\n",
    "- `'sizes'` is a list containing tuples, (width, height) representing the original width and height the image.\n",
    "- `'coords'` is a list containing tuples, (x1, y1, x2, y2) representing coordinates of a bounding box around the sign in the image. **THESE COORDINATES ASSUME THE ORIGINAL IMAGE. THE PICKLED DATA CONTAINS RESIZED VERSIONS (32 by 32) OF THESE IMAGES**\n",
    "\n",
    "Complete the basic data summary below. Use python, numpy and/or pandas methods to calculate the data summary rather than hard coding the results. For example, the [pandas shape method](http://pandas.pydata.org/pandas-docs/stable/generated/pandas.DataFrame.shape.html) might be useful for calculating some of the summary results. "
   ]
  },
  {
   "cell_type": "markdown",
   "metadata": {},
   "source": [
    "### Provide a Basic Summary of the Data Set Using Python, Numpy and/or Pandas"
   ]
  },
  {
   "cell_type": "code",
   "execution_count": 4,
   "metadata": {},
   "outputs": [
    {
     "name": "stdout",
     "output_type": "stream",
     "text": [
      "Number of training examples = 34799\n",
      "Number of testing examples = 12630\n",
      "Image data shape = (32, 32)\n",
      "Number of classes = 43\n",
      "35\n"
     ]
    },
    {
     "data": {
      "image/png": "[encoded data removed]",
      "text/plain": [
       "<matplotlib.figure.Figure at 0x7f8ebba6d5c0>"
      ]
     },
     "metadata": {},
     "output_type": "display_data"
    }
   ],
   "source": [
    "### Replace each question mark with the appropriate value. \n",
    "### Use python, pandas or numpy methods rather than hard coding the results\n",
    "import numpy as np\n",
    "import random\n",
    "import matplotlib.pyplot as plt\n",
    "%matplotlib inline\n",
    "\n",
    "# TODO: Number of training examples\n",
    "n_train = len(X_train)\n",
    "\n",
    "# TODO: Number of validation examples\n",
    "n_valid = len(X_valid)\n",
    "\n",
    "# TODO: Number of testing examples.\n",
    "n_test = len(X_test)\n",
    "\n",
    "# TODO: What's the shape of an traffic sign image?\n",
    "image_shape = X_train.shape[1:3]\n",
    "\n",
    "# TODO: How many unique classes/labels there are in the dataset.\n",
    "n_classes = len(np.unique(y_train))\n",
    "\n",
    "print(\"Number of training examples =\", n_train)\n",
    "print(\"Number of testing examples =\", n_test)\n",
    "print(\"Image data shape =\", image_shape)\n",
    "print(\"Number of classes =\", n_classes)\n",
    "\n",
    "index = random.randint(0, len(X_train))\n",
    "image = X_train[index].squeeze()\n",
    "\n",
    "plt.figure(figsize=(5,5))\n",
    "plt.imshow(image, cmap=\"gray\")\n",
    "print(y_train[index])"
   ]
  },
  {
   "cell_type": "markdown",
   "metadata": {},
   "source": [
    "### Include an exploratory visualization of the dataset"
   ]
  },
  {
   "cell_type": "markdown",
   "metadata": {},
   "source": [
    "Visualize the German Traffic Signs Dataset using the pickled file(s). This is open ended, suggestions include: plotting traffic sign images, plotting the count of each sign, etc. \n",
    "\n",
    "The [Matplotlib](http://matplotlib.org/) [examples](http://matplotlib.org/examples/index.html) and [gallery](http://matplotlib.org/gallery.html) pages are a great resource for doing visualizations in Python.\n",
    "\n",
    "**NOTE:** It's recommended you start with something simple first. If you wish to do more, come back to it after you've completed the rest of the sections. It can be interesting to look at the distribution of classes in the training, validation and test set. Is the distribution the same? Are there more examples of some classes than others?"
   ]
  },
  {
   "cell_type": "markdown",
   "metadata": {},
   "source": [
    "__Display 4 images__:"
   ]
  },
  {
   "cell_type": "code",
   "execution_count": 5,
   "metadata": {},
   "outputs": [
    {
     "data": {
      "image/png": "[encoded data removed]",
      "text/plain": [
       "<matplotlib.figure.Figure at 0x7f8ef83ff668>"
      ]
     },
     "metadata": {},
     "output_type": "display_data"
    }
   ],
   "source": [
    "# build a label:description map\n",
    "label_map = {}\n",
    "with open('signnames.csv', 'r') as f:\n",
    "    first_line = True\n",
    "    for line in f:\n",
    "        # Ignore first line\n",
    "        if first_line:\n",
    "            first_line = False\n",
    "            continue\n",
    "\n",
    "        # Populate label_map\n",
    "        label_int, label_string = line.split(',')\n",
    "        label_int = int(label_int)\n",
    "\n",
    "        label_map[label_int] = label_string\n",
    "        \n",
    "num_imgs = 4\n",
    "idx_list = np.random.choice(list(range(n_train)), size=num_imgs, replace=False)\n",
    "\n",
    "plt.figure(figsize=(20,5))\n",
    "plt.subplot(1,num_imgs,1)\n",
    "\n",
    "for i, idx in enumerate(idx_list):\n",
    "    plt.subplot(1, num_imgs, i+1)\n",
    "    plt.imshow(X_train[idx])\n",
    "    plt.title(\"label:{}, \\n {}\".format(y_train[idx], label_map[y_train[idx]]))"
   ]
  },
  {
   "cell_type": "markdown",
   "metadata": {},
   "source": [
    "__Show dataset statistics__:"
   ]
  },
  {
   "cell_type": "code",
   "execution_count": 154,
   "metadata": {},
   "outputs": [
    {
     "name": "stdout",
     "output_type": "stream",
     "text": [
      "1260\n"
     ]
    },
    {
     "data": {
      "image/png": "[encoded data removed]",
      "text/plain": [
       "<matplotlib.figure.Figure at 0x7f8ea1f31978>"
      ]
     },
     "metadata": {},
     "output_type": "display_data"
    }
   ],
   "source": [
    "plt.style.use('seaborn')\n",
    "# Count frequency of each label\n",
    "labels, counts = np.unique(y_train, return_counts=True)\n",
    "label_count = dict(zip(labels, counts))\n",
    "\n",
    "# Plot the histogram\n",
    "plt.figure(figsize=(20,5))\n",
    "\n",
    "plt.bar(labels, counts, tick_label=labels, width=0.8, align='center')\n",
    "plt.title('Class Distributions')\n",
    "plt.show()"
   ]
  },
  {
   "cell_type": "markdown",
   "metadata": {},
   "source": [
    "_This distribution is not uniform, which introduces bias during training. The next step would be to augment the dataset and in such a way to make the new distribution more uniform_\n",
    "\n",
    "__Artificially augment the dataset__:"
   ]
  },
  {
   "cell_type": "code",
   "execution_count": 166,
   "metadata": {},
   "outputs": [
    {
     "name": "stdout",
     "output_type": "stream",
     "text": [
      "2\n"
     ]
    }
   ],
   "source": [
    "# function to perform random transformations to a source image\n",
    "import cv2\n",
    "import random\n",
    "\n",
    "img_test = X_train[34]\n",
    "\n",
    "def image_random_transform(image, prob=0.5, blur_range=10, rotate_range=15.0, brighten_range=50, TEST=False):\n",
    "    '''\n",
    "    Perform random transformations to a source image,\n",
    "    Returns a list of modified images.\n",
    "    \n",
    "    Random transformations include: bluring, rotating and brightness change\n",
    "    \n",
    "    '''\n",
    "    # random guassian blur\n",
    "    imgs = []\n",
    "    if random.random() < prob:\n",
    "            \n",
    "        blur_range = int(blur_range / 2) * 2\n",
    "        blur_px = random.choice(range(1,blur_range,2))\n",
    "            \n",
    "        blur = cv2.GaussianBlur(image, (blur_px,blur_px),0)\n",
    "        imgs.append(blur)\n",
    "        \n",
    "        if TEST:\n",
    "            print(\"bluring\")\n",
    "            print(\"blur:\", blur_px)\n",
    "    else:\n",
    "        # print(\"skip bluring\")\n",
    "        if TEST:\n",
    "            print('')\n",
    "        \n",
    "    if random.random() < prob:\n",
    "            \n",
    "        # random rotate\n",
    "        angle = random.uniform(-rotate_range, rotate_range)\n",
    "            \n",
    "        pivot_w = random.uniform(0, image.shape[0])\n",
    "        pivot_h = random.uniform(0, image.shape[1])\n",
    "            \n",
    "        M = cv2.getRotationMatrix2D((pivot_w,pivot_h), angle, 1)\n",
    "        rotate = cv2.warpAffine(image, M, (image.shape[1], image.shape[0]))\n",
    "        imgs.append(rotate)\n",
    "        if TEST:\n",
    "            print(\"rotating\")\n",
    "            print(\"angle:\", angle, \"pivot:\", pivot_w, pivot_h)\n",
    "    else:\n",
    "        # print(\"skip rotating\")\n",
    "        if TEST:\n",
    "            print('')\n",
    "        \n",
    "    if random.random() < prob:   \n",
    "        hsv = cv2.cvtColor(image, cv2.COLOR_BGR2HSV)\n",
    "            \n",
    "        value = random.randint(-brighten_range, brighten_range)\n",
    "        \n",
    "        for i in range(image.shape[0]):\n",
    "            for j in range(image.shape[1]):\n",
    "                if value > 0:\n",
    "                    if int(hsv[i,j,2]) + value > 255:\n",
    "                        hsv[i,j,2] = 255\n",
    "                    else:\n",
    "                        hsv[i,j,2] += value\n",
    "                else:\n",
    "                    if int(hsv[i,j,2]) + value < 0:\n",
    "                        hsv[i,j,2] = 0\n",
    "                    else:\n",
    "                        hsv[i,j,2] -= -value\n",
    "        \n",
    "        hsv = cv2.cvtColor(hsv, cv2.COLOR_HSV2BGR)\n",
    "        imgs.append(hsv)\n",
    "        \n",
    "        if TEST:\n",
    "            print(\"brightness\")\n",
    "            print(\"brighten: \", value)\n",
    "    else:\n",
    "        # print(\"skip brightening\")\n",
    "        if TEST:\n",
    "            print('')\n",
    "    \n",
    "    if TEST:\n",
    "        num_imgs = len(imgs)\n",
    "        plt.figure(figsize=(20,5))\n",
    "        plt.subplot(1,num_imgs+1,1)\n",
    "        plt.imshow(image)\n",
    "        \n",
    "        for i in range(num_imgs):\n",
    "            plt.subplot(1, num_imgs+1, i+2)\n",
    "            plt.imshow(imgs[i])\n",
    "    \n",
    "    return len(imgs), imgs\n",
    "        \n",
    "\n",
    "num, imgs = image_random_transform(img_test)\n",
    "print(num)"
   ]
  },
  {
   "cell_type": "code",
   "execution_count": 215,
   "metadata": {},
   "outputs": [
    {
     "name": "stdout",
     "output_type": "stream",
     "text": [
      ">>>>>> progress:      34799 / 34799\r"
     ]
    }
   ],
   "source": [
    "norm_counts = [float(i)/(max(counts)+0.1) for i in counts]\n",
    "freq = dict(zip(labels, norm_counts))\n",
    "\n",
    "def augment_dataset(X, y, frequency_dict=freq, augment_scale=5):\n",
    "    X_aug = X.copy()\n",
    "    y_aug = y.copy()\n",
    "    \n",
    "    counter = 0\n",
    "    for img, label in zip(X, y):\n",
    "        counter += 1\n",
    "        print(\">>>>>> progress: {:>10} / {}\".format(counter, len(y_train)), end='\\r')\n",
    "        p = 1 - frequency_dict[label]\n",
    "        for i in range(augment_scale):       \n",
    "            add_num, add_imgs = image_random_transform(img, prob=p)\n",
    "            if add_num > 0:\n",
    "                X_aug = np.concatenate((X_aug, np.asarray(add_imgs)))\n",
    "                y_aug = np.append(y_aug, [label]*add_num)\n",
    "    \n",
    "    return X_aug, y_aug\n",
    "            \n",
    "X_train_aug, y_train_aug = augment_dataset(X_train, y_train, frequency_dict=freq)"
   ]
  },
  {
   "cell_type": "markdown",
   "metadata": {},
   "source": [
    "__save to file__:"
   ]
  },
  {
   "cell_type": "code",
   "execution_count": 217,
   "metadata": {
    "collapsed": true
   },
   "outputs": [],
   "source": [
    "new_data = {'features': X_train_aug, 'labels': y_train_aug}\n",
    "with open('./train_aug.p', mode='wb') as f:\n",
    "    pickle.dump(new_data, f)"
   ]
  },
  {
   "cell_type": "markdown",
   "metadata": {},
   "source": [
    "__display distribution__:"
   ]
  },
  {
   "cell_type": "code",
   "execution_count": 218,
   "metadata": {},
   "outputs": [
    {
     "data": {
      "image/png": "[encoded data removed]",
      "text/plain": [
       "<matplotlib.figure.Figure at 0x7f8ea1fce5c0>"
      ]
     },
     "metadata": {},
     "output_type": "display_data"
    }
   ],
   "source": [
    "# Count frequency of each label\n",
    "labels_aug, counts_aug = np.unique(y_train_aug, return_counts=True)\n",
    "\n",
    "# Plot the histogram\n",
    "plt.figure(figsize=(20,5))\n",
    "\n",
    "plt.bar(labels_aug, counts_aug, tick_label=labels, width=0.8, align='center')\n",
    "plt.title('Class Distributions for Augmented Dataset')\n",
    "plt.show()"
   ]
  },
  {
   "cell_type": "markdown",
   "metadata": {},
   "source": [
    "_now the augmented dataset has more data and a better distribution_."
   ]
  },
  {
   "cell_type": "code",
   "execution_count": 221,
   "metadata": {},
   "outputs": [
    {
     "name": "stdout",
     "output_type": "stream",
     "text": [
      "34799 34799\n",
      "223299 223299\n"
     ]
    }
   ],
   "source": [
    "print(len(X_train), len(y_train))\n",
    "print(len(X_train_aug), len(y_train_aug))"
   ]
  },
  {
   "cell_type": "markdown",
   "metadata": {},
   "source": [
    "----\n",
    "\n",
    "## Step 2: Design and Test a Model Architecture\n",
    "\n",
    "Design and implement a deep learning model that learns to recognize traffic signs. Train and test your model on the [German Traffic Sign Dataset](http://benchmark.ini.rub.de/?section=gtsrb&subsection=dataset).\n",
    "\n",
    "The LeNet-5 implementation shown in the [classroom](https://classroom.udacity.com/nanodegrees/nd013/parts/fbf77062-5703-404e-b60c-95b78b2f3f9e/modules/6df7ae49-c61c-4bb2-a23e-6527e69209ec/lessons/601ae704-1035-4287-8b11-e2c2716217ad/concepts/d4aca031-508f-4e0b-b493-e7b706120f81) at the end of the CNN lesson is a solid starting point. You'll have to change the number of classes and possibly the preprocessing, but aside from that it's plug and play! \n",
    "\n",
    "With the LeNet-5 solution from the lecture, you should expect a validation set accuracy of about 0.89. To meet specifications, the validation set accuracy will need to be at least 0.93. It is possible to get an even higher accuracy, but 0.93 is the minimum for a successful project submission. \n",
    "\n",
    "There are various aspects to consider when thinking about this problem:\n",
    "\n",
    "- Neural network architecture (is the network over or underfitting?)\n",
    "- Play around preprocessing techniques (normalization, rgb to grayscale, etc)\n",
    "- Number of examples per label (some have more than others).\n",
    "- Generate fake data.\n",
    "\n",
    "Here is an example of a [published baseline model on this problem](http://yann.lecun.com/exdb/publis/pdf/sermanet-ijcnn-11.pdf). It's not required to be familiar with the approach used in the paper but, it's good practice to try to read papers like these."
   ]
  },
  {
   "cell_type": "markdown",
   "metadata": {},
   "source": [
    "### Pre-process the Data Set (normalization, grayscale, etc.)"
   ]
  },
  {
   "cell_type": "markdown",
   "metadata": {},
   "source": [
    "Minimally, the image data should be normalized so that the data has mean zero and equal variance. For image data, `(pixel - 128)/ 128` is a quick way to approximately normalize the data and can be used in this project. \n",
    "\n",
    "Other pre-processing steps are optional. You can try different techniques to see if it improves performance. \n",
    "\n",
    "Use the code cell (or multiple code cells, if necessary) to implement the first step of your project."
   ]
  },
  {
   "cell_type": "code",
   "execution_count": 223,
   "metadata": {
    "collapsed": true
   },
   "outputs": [],
   "source": [
    "### Preprocess the data here. It is required to normalize the data. Other preprocessing steps could include \n",
    "### converting to grayscale, etc.\n",
    "### Feel free to use as many code cells as needed.\n",
    "\n",
    "def preprocess_data(X, y, num_classes=43):\n",
    "    \"\"\"\n",
    "    Normalize image data to [-1, 1], one-hot encodes classes\n",
    "    \"\"\"\n",
    "    X = X.astype('float32')\n",
    "    X = ((X - 0.) / 255.) * (1. - 0.) + 0.\n",
    "    \n",
    "    y = y.astype('int8')\n",
    "\n",
    "    # Convert the labels from numerical labels to one-hot encoded labels\n",
    "    y_onehot = np.zeros((y.shape[0], num_classes))\n",
    "    for i, label in enumerate(y_onehot):\n",
    "        label[y[i]] = 1.\n",
    "\n",
    "    return X, y_onehot\n",
    "\n",
    "X_train_aug_norm, y_train_aug_norm = preprocess_data(X_train_aug, y_train_aug)\n",
    "X_valid_norm, y_valid_norm = preprocess_data(X_valid, y_valid)\n",
    "X_test_norm, y_test_norm = preprocess_data(X_test, y_test)"
   ]
  },
  {
   "cell_type": "code",
   "execution_count": 227,
   "metadata": {},
   "outputs": [
    {
     "name": "stdout",
     "output_type": "stream",
     "text": [
      "min: 0.07450980693101883, max: 0.4274509847164154, average: 0.16547821462154388\n",
      "min: 0.0235294122248888, max: 0.09803921729326248, average: 0.04105136916041374\n",
      "min: 0.18431372940540314, max: 0.45098039507865906, average: 0.35430583357810974\n",
      "min: 0.0235294122248888, max: 1.0, average: 0.3382531702518463\n"
     ]
    },
    {
     "data": {
      "image/png": "[encoded data removed]",
      "text/plain": [
       "<matplotlib.figure.Figure at 0x7f8e61e380b8>"
      ]
     },
     "metadata": {},
     "output_type": "display_data"
    }
   ],
   "source": [
    "# test if normalize and onehot-encoding worked correctly\n",
    "idx_list = [1, 343, 454, 5767]\n",
    "for i, idx in enumerate(idx_list):\n",
    "    f = X_train_aug_norm[idx].flatten()\n",
    "    print(\"min: {}, max: {}, average: {}\".format(np.amin(f), \n",
    "                                                 np.amax(f),\n",
    "                                                 np.mean(f)))\n",
    "\n",
    "plt.figure(figsize=(20,5))\n",
    "plt.subplot(1,len(idx_list),1)\n",
    "\n",
    "for i, idx in enumerate(idx_list):\n",
    "    plt.subplot(1, len(idx_list), i+1)\n",
    "    plt.imshow(X_train_aug_norm[idx])\n",
    "    index = y_train_aug_norm[idx].tolist().index(1)\n",
    "    \n",
    "    plt.title(\"label:{}, \\n {}\".format(index, label_map[index]))"
   ]
  },
  {
   "cell_type": "markdown",
   "metadata": {},
   "source": [
    "### Model Architecture"
   ]
  },
  {
   "cell_type": "code",
   "execution_count": 248,
   "metadata": {
    "collapsed": true
   },
   "outputs": [],
   "source": [
    "### Define your architecture here.\n",
    "### Feel free to use as many code cells as needed.\n",
    "\n",
    "from sklearn.utils import shuffle\n",
    "from tensorflow.contrib.layers import flatten\n",
    "import tensorflow as tf\n",
    "\n",
    "tf.reset_default_graph()\n",
    "\n",
    "def conv2d(x, W, b, strides=1):\n",
    "    x = tf.nn.conv2d(x, W, strides=[1, strides, strides, 1], padding='VALID')\n",
    "    x = tf.nn.bias_add(x, b)\n",
    "    return tf.nn.relu(x)\n",
    "\n",
    "\n",
    "def maxpool2d(x, k=2):\n",
    "    return tf.nn.max_pool(\n",
    "        x,\n",
    "        ksize=[1, k, k, 1],\n",
    "        strides=[1, k, k, 1],\n",
    "        padding='VALID')\n",
    "\n",
    "def initialize_variable(scope_name, var_name, shape, init=tf.zeros_initializer):\n",
    "    with tf.variable_scope(scope_name) as scope:\n",
    "        v = tf.get_variable(var_name, shape, initializer=init)\n",
    "        scope.reuse_variables()\n",
    "\n",
    "def get_scope_variable(scope_name, var_name):\n",
    "    with tf.variable_scope(scope_name, reuse=True):\n",
    "        v = tf.get_variable(var_name)\n",
    "    return v\n",
    "\n",
    "x = tf.placeholder(tf.float32, (None, 32, 32, 3))\n",
    "y = tf.placeholder(tf.int32, (None))\n",
    "\n",
    "## Initialize weights and biases\n",
    "# Input = 32x32x3. Output = 28x28x6.\n",
    "initialize_variable('conv_1', 'w', [5, 5, 3, 6], init=tf.contrib.layers.xavier_initializer(uniform=False))\n",
    "initialize_variable('conv_1', 'b', [6])\n",
    "\n",
    "## maxpool2d(x, k=2)\n",
    "\n",
    "# Input = 14x14x6, Output = 10x10x16\n",
    "initialize_variable('conv_2', 'w', [5, 5, 6, 16], init=tf.contrib.layers.xavier_initializer(uniform=False))\n",
    "initialize_variable('conv_2', 'b', [16])\n",
    "\n",
    "## maxpool2d(x, k=2)\n",
    "\n",
    "# Input = 5x5x16, Output = 4x4x32\n",
    "initialize_variable('conv_3', 'w', [2, 2, 16, 32], init=tf.contrib.layers.xavier_initializer(uniform=False))\n",
    "initialize_variable('conv_3', 'b', [32])\n",
    "\n",
    "# Input = 4x4x32. Output = 512. Flattening, use flatten(), so this is skipped\n",
    "initialize_variable('ff_1', 'w', [4*4*32, 512], init=tf.contrib.layers.xavier_initializer(uniform=False))\n",
    "initialize_variable('ff_1', 'b', [512])\n",
    "\n",
    "# Input = 512, Output = 256\n",
    "initialize_variable('ff_2', 'w', [512, 256], init=tf.contrib.layers.xavier_initializer(uniform=False))\n",
    "initialize_variable('ff_2', 'b', [256])\n",
    "\n",
    "# Input = 120, Output = 84\n",
    "initialize_variable('ff_3', 'w', [256, 128], init=tf.contrib.layers.xavier_initializer(uniform=False))\n",
    "initialize_variable('ff_3', 'b', [128])\n",
    "\n",
    "# Input = 84, Output = 43\n",
    "initialize_variable('ff_out', 'w', [128, 43], init=tf.contrib.layers.xavier_initializer(uniform=False))\n",
    "initialize_variable('ff_out', 'b', [43])\n",
    "\n",
    "keep_prob = tf.placeholder(tf.float32) # dropout: probability to keep units\n",
    "\n",
    "def LeNet(x):    \n",
    "    # Arguments used for tf.truncated_normal, randomly defines variables for the weights and biases for each layer\n",
    "\n",
    "    \n",
    "    # Layer 1\n",
    "    # Activation.\n",
    "    x = conv2d(x, get_scope_variable('conv_1', 'w'), get_scope_variable('conv_1', 'b'))\n",
    "\n",
    "    # Pooling\n",
    "    x = maxpool2d(x, k=2)\n",
    "\n",
    "    # Layer 2\n",
    "    # Activation.\n",
    "    x = conv2d(x, get_scope_variable('conv_2', 'w'), get_scope_variable('conv_2', 'b'))\n",
    "\n",
    "    # Pooling\n",
    "    x = maxpool2d(x, k=2)\n",
    "    \n",
    "    # Layer 3\n",
    "    # Activation.\n",
    "    x = conv2d(x, get_scope_variable('conv_3', 'w'), get_scope_variable('conv_3', 'b'))\n",
    "\n",
    "    # Flatten.\n",
    "    fc = tf.reshape(x, [-1, get_scope_variable('ff_1', 'w').get_shape().as_list()[0]])\n",
    "    #fc = flatten(x)\n",
    "    \n",
    "    # Layer 3: Fully Connected.\n",
    "    # Activation.\n",
    "    fc = tf.nn.relu(tf.matmul(fc, get_scope_variable('ff_2', 'w')) + get_scope_variable('ff_2', 'b'))\n",
    "    fc = tf.nn.dropout(fc, keep_prob)\n",
    "\n",
    "    # Layer 4: Fully Connected.\n",
    "    # Activation.\n",
    "    fc = tf.nn.relu(tf.matmul(fc, get_scope_variable('ff_3', 'w')) + get_scope_variable('ff_3', 'b'))  \n",
    "    fc = tf.nn.dropout(fc, keep_prob)\n",
    "\n",
    "    # Layer 5: Fully Connected.\n",
    "    logits = tf.nn.relu(tf.matmul(fc, get_scope_variable('ff_out', 'w')) + get_scope_variable('ff_out', 'b'))  \n",
    "    return logits"
   ]
  },
  {
   "cell_type": "code",
   "execution_count": 249,
   "metadata": {
    "collapsed": true
   },
   "outputs": [],
   "source": []
  },
  {
   "cell_type": "code",
   "execution_count": 259,
   "metadata": {},
   "outputs": [
    {
     "name": "stdout",
     "output_type": "stream",
     "text": [
      "CPU times: user 196 ms, sys: 4 ms, total: 200 ms\n",
      "Wall time: 200 ms\n"
     ]
    }
   ],
   "source": [
    "%%time\n",
    "LR = 0.0001\n",
    "\n",
    "logits = LeNet(x)\n",
    "cross_entropy = tf.nn.softmax_cross_entropy_with_logits(labels=y, logits=logits)\n",
    "loss_operation = tf.reduce_mean(cross_entropy)\n",
    "optimizer = tf.train.AdamOptimizer(learning_rate = LR)\n",
    "training_operation = optimizer.minimize(loss_operation)"
   ]
  },
  {
   "cell_type": "code",
   "execution_count": 260,
   "metadata": {
    "collapsed": true
   },
   "outputs": [],
   "source": [
    "correct_prediction = tf.equal(tf.argmax(logits, 1), tf.argmax(y, 1))\n",
    "accuracy_operation = tf.reduce_mean(tf.cast(correct_prediction, tf.float32))\n",
    "saver = tf.train.Saver()\n",
    "KProb = 0.5\n",
    "\n",
    "def evaluate(X_data, y_data):\n",
    "    num_examples = len(X_data)\n",
    "    total_accuracy = 0\n",
    "    sess = tf.get_default_session()\n",
    "    for offset in range(0, num_examples, BATCH_SIZE):\n",
    "        batch_x, batch_y = X_data[offset:offset+BATCH_SIZE], y_data[offset:offset+BATCH_SIZE]\n",
    "        accuracy = sess.run(accuracy_operation, feed_dict={x: batch_x, y: batch_y, keep_prob: KProb})\n",
    "        total_accuracy += (accuracy * len(batch_x))\n",
    "    return total_accuracy / num_examples"
   ]
  },
  {
   "cell_type": "markdown",
   "metadata": {},
   "source": [
    "### Train, Validate and Test the Model"
   ]
  },
  {
   "cell_type": "markdown",
   "metadata": {},
   "source": [
    "A validation set can be used to assess how well the model is performing. A low accuracy on the training and validation\n",
    "sets imply underfitting. A high accuracy on the training set but low accuracy on the validation set implies overfitting."
   ]
  },
  {
   "cell_type": "code",
   "execution_count": 262,
   "metadata": {},
   "outputs": [
    {
     "name": "stdout",
     "output_type": "stream",
     "text": [
      "Training...\n",
      "EPOCH 1 ...\n",
      "Validation Accuracy = 0.138\n",
      "Train Accuracy = 0.186\n",
      "\n",
      "EPOCH 2 ...\n",
      "Validation Accuracy = 0.338\n",
      "Train Accuracy = 0.388\n",
      "\n",
      "EPOCH 3 ...\n",
      "Validation Accuracy = 0.478\n",
      "Train Accuracy = 0.513\n",
      "\n",
      "EPOCH 4 ...\n",
      "Validation Accuracy = 0.568\n",
      "Train Accuracy = 0.600\n",
      "\n",
      "EPOCH 5 ...\n",
      "Validation Accuracy = 0.619\n",
      "Train Accuracy = 0.653\n",
      "\n",
      "EPOCH 6 ...\n",
      "Validation Accuracy = 0.663\n",
      "Train Accuracy = 0.696\n",
      "\n",
      "EPOCH 7 ...\n",
      "Validation Accuracy = 0.699\n",
      "Train Accuracy = 0.727\n",
      "\n",
      "EPOCH 8 ...\n",
      "Validation Accuracy = 0.724\n",
      "Train Accuracy = 0.752\n",
      "\n",
      "EPOCH 9 ...\n",
      "Validation Accuracy = 0.740\n",
      "Train Accuracy = 0.772\n",
      "\n",
      "EPOCH 10 ...\n",
      "Validation Accuracy = 0.756\n",
      "Train Accuracy = 0.790\n",
      "\n",
      "EPOCH 11 ...\n",
      "Validation Accuracy = 0.773\n",
      "Train Accuracy = 0.804\n",
      "\n",
      "EPOCH 12 ...\n",
      "Validation Accuracy = 0.793\n",
      "Train Accuracy = 0.813\n",
      "\n",
      "EPOCH 13 ...\n",
      "Validation Accuracy = 0.793\n",
      "Train Accuracy = 0.824\n",
      "\n",
      "EPOCH 14 ...\n",
      "Validation Accuracy = 0.814\n",
      "Train Accuracy = 0.835\n",
      "\n",
      "EPOCH 15 ...\n",
      "Validation Accuracy = 0.814\n",
      "Train Accuracy = 0.843\n",
      "\n",
      "EPOCH 16 ...\n",
      "Validation Accuracy = 0.822\n",
      "Train Accuracy = 0.850\n",
      "\n",
      "EPOCH 17 ...\n",
      "Validation Accuracy = 0.831\n",
      "Train Accuracy = 0.857\n",
      "\n",
      "EPOCH 18 ...\n",
      "Validation Accuracy = 0.830\n",
      "Train Accuracy = 0.864\n",
      "\n",
      "EPOCH 19 ...\n",
      "Validation Accuracy = 0.846\n",
      "Train Accuracy = 0.869\n",
      "\n",
      "EPOCH 20 ...\n",
      "Validation Accuracy = 0.846\n",
      "Train Accuracy = 0.873\n",
      "\n",
      "EPOCH 21 ...\n",
      "Validation Accuracy = 0.847\n",
      "Train Accuracy = 0.877\n",
      "\n",
      "EPOCH 22 ...\n",
      "Validation Accuracy = 0.854\n",
      "Train Accuracy = 0.883\n",
      "\n",
      "EPOCH 23 ...\n",
      "Validation Accuracy = 0.861\n",
      "Train Accuracy = 0.886\n",
      "\n",
      "EPOCH 24 ...\n",
      "Validation Accuracy = 0.861\n",
      "Train Accuracy = 0.890\n",
      "\n",
      "EPOCH 25 ...\n",
      "Validation Accuracy = 0.868\n",
      "Train Accuracy = 0.890\n",
      "\n",
      "EPOCH 26 ...\n",
      "Validation Accuracy = 0.870\n",
      "Train Accuracy = 0.897\n",
      "\n",
      "EPOCH 27 ...\n",
      "Validation Accuracy = 0.874\n",
      "Train Accuracy = 0.900\n",
      "\n",
      "EPOCH 28 ...\n",
      "Validation Accuracy = 0.877\n",
      "Train Accuracy = 0.903\n",
      "\n",
      "EPOCH 29 ...\n",
      "Validation Accuracy = 0.872\n",
      "Train Accuracy = 0.905\n",
      "\n",
      "EPOCH 30 ...\n",
      "Validation Accuracy = 0.882\n",
      "Train Accuracy = 0.907\n",
      "\n",
      "EPOCH 31 ...\n",
      "Validation Accuracy = 0.888\n",
      "Train Accuracy = 0.908\n",
      "\n",
      "EPOCH 32 ...\n",
      "Validation Accuracy = 0.886\n",
      "Train Accuracy = 0.911\n",
      "\n",
      "EPOCH 33 ...\n",
      "Validation Accuracy = 0.884\n",
      "Train Accuracy = 0.914\n",
      "\n",
      "EPOCH 34 ...\n",
      "Validation Accuracy = 0.890\n",
      "Train Accuracy = 0.915\n",
      "\n",
      "EPOCH 35 ...\n",
      "Validation Accuracy = 0.887\n",
      "Train Accuracy = 0.918\n",
      "\n",
      "EPOCH 36 ...\n",
      "Validation Accuracy = 0.896\n",
      "Train Accuracy = 0.919\n",
      "\n",
      "EPOCH 37 ...\n",
      "Validation Accuracy = 0.892\n",
      "Train Accuracy = 0.921\n",
      "\n",
      "EPOCH 38 ...\n",
      "Validation Accuracy = 0.890\n",
      "Train Accuracy = 0.922\n",
      "\n",
      "EPOCH 39 ...\n",
      "Validation Accuracy = 0.891\n",
      "Train Accuracy = 0.924\n",
      "\n",
      "EPOCH 40 ...\n",
      "Validation Accuracy = 0.900\n",
      "Train Accuracy = 0.927\n",
      "\n",
      "EPOCH 41 ...\n",
      "Validation Accuracy = 0.892\n",
      "Train Accuracy = 0.926\n",
      "\n",
      "EPOCH 42 ...\n",
      "Validation Accuracy = 0.904\n",
      "Train Accuracy = 0.928\n",
      "\n",
      "EPOCH 43 ...\n",
      "Validation Accuracy = 0.900\n",
      "Train Accuracy = 0.929\n",
      "\n",
      "EPOCH 44 ...\n",
      "Validation Accuracy = 0.901\n",
      "Train Accuracy = 0.928\n",
      "\n",
      "EPOCH 45 ...\n",
      "Validation Accuracy = 0.902\n",
      "Train Accuracy = 0.932\n",
      "\n",
      "EPOCH 46 ...\n",
      "Validation Accuracy = 0.900\n",
      "Train Accuracy = 0.933\n",
      "\n",
      "EPOCH 47 ...\n",
      "Validation Accuracy = 0.907\n",
      "Train Accuracy = 0.934\n",
      "\n",
      "EPOCH 48 ...\n",
      "Validation Accuracy = 0.907\n",
      "Train Accuracy = 0.935\n",
      "\n",
      "EPOCH 49 ...\n",
      "Validation Accuracy = 0.910\n",
      "Train Accuracy = 0.936\n",
      "\n",
      "EPOCH 50 ...\n",
      "Validation Accuracy = 0.914\n",
      "Train Accuracy = 0.938\n",
      "\n",
      "Model saved\n",
      "CPU times: user 9h 34min 8s, sys: 15min 28s, total: 9h 49min 37s\n",
      "Wall time: 1h 25min 58s\n"
     ]
    }
   ],
   "source": [
    "%%time\n",
    "### Train your model here.\n",
    "### Calculate and report the accuracy on the training and validation set.\n",
    "### Once a final model architecture is selected, \n",
    "### the accuracy on the test set should be calculated and reported as well.\n",
    "### Feel free to use as many code cells as needed.\n",
    "BATCH_SIZE = 512\n",
    "EPOCHS = 50\n",
    "RUN_NAME = 'LeNet'\n",
    "\n",
    "# Create a summary operation to log the progress of the network\n",
    "with tf.variable_scope('logging'):\n",
    "    tf.summary.scalar('current_cost', loss_operation)\n",
    "    summary = tf.summary.merge_all()\n",
    "\n",
    "with tf.Session() as sess:\n",
    "    sess.run(tf.global_variables_initializer())\n",
    "    num_examples = len(X_train_aug_norm)\n",
    "    \n",
    "    # Create log file writers to record training progress.\n",
    "    # We'll store training and testing log data separately.\n",
    "    train_writer = tf.summary.FileWriter(\"./logs/{}/train\".format(RUN_NAME), sess.graph)\n",
    "    valid_writer = tf.summary.FileWriter(\"./logs/{}/valid\".format(RUN_NAME), sess.graph)\n",
    "    \n",
    "    print(\"Training...\")\n",
    "    for epoch in range(EPOCHS):\n",
    "        X_feed, y_feed = shuffle(X_train_aug_norm, y_train_aug_norm)\n",
    "        for offset in range(0, num_examples, BATCH_SIZE):\n",
    "            end = offset + BATCH_SIZE\n",
    "            batch_x, batch_y = X_feed[offset:end], y_feed[offset:end]\n",
    "            _, train_summary = sess.run([training_operation, summary], feed_dict={x: batch_x, y: batch_y, keep_prob: KProb})\n",
    "            \n",
    "        train_accuracy = evaluate(X_feed, y_feed)\n",
    "        validation_accuracy = evaluate(X_valid_norm, y_valid_norm)\n",
    "\n",
    "        # Write the current training status to the log files (Which we can view with TensorBoard)\n",
    "        train_writer.add_summary(train_summary, epoch)\n",
    "            \n",
    "        print(\"EPOCH {} ...\".format(epoch+1))\n",
    "        print(\"Validation Accuracy = {:.3f}\".format(validation_accuracy))\n",
    "        print(\"Train Accuracy = {:.3f}\".format(train_accuracy))\n",
    "        print()\n",
    "        \n",
    "    saver.save(sess, './LeNetPlus')\n",
    "    print(\"Model saved\")"
   ]
  },
  {
   "cell_type": "markdown",
   "metadata": {},
   "source": [
    "_With this architecture, we got over 93% accuracy. Now we resume from previous training and try to refine the model_"
   ]
  },
  {
   "cell_type": "markdown",
   "metadata": {},
   "source": [
    "__Fine-tuning__:"
   ]
  },
  {
   "cell_type": "code",
   "execution_count": null,
   "metadata": {
    "collapsed": true
   },
   "outputs": [],
   "source": []
  },
  {
   "cell_type": "code",
   "execution_count": null,
   "metadata": {
    "collapsed": true
   },
   "outputs": [],
   "source": []
  },
  {
   "cell_type": "markdown",
   "metadata": {},
   "source": [
    "---\n",
    "\n",
    "## Step 3: Test a Model on New Images\n",
    "\n",
    "To give yourself more insight into how your model is working, download at least five pictures of German traffic signs from the web and use your model to predict the traffic sign type.\n",
    "\n",
    "You may find `signnames.csv` useful as it contains mappings from the class id (integer) to the actual sign name."
   ]
  },
  {
   "cell_type": "markdown",
   "metadata": {},
   "source": [
    "### Load and Output the Images"
   ]
  },
  {
   "cell_type": "code",
   "execution_count": null,
   "metadata": {
    "collapsed": true
   },
   "outputs": [],
   "source": [
    "### Load the images and plot them here.\n",
    "### Feel free to use as many code cells as needed."
   ]
  },
  {
   "cell_type": "markdown",
   "metadata": {},
   "source": [
    "### Predict the Sign Type for Each Image"
   ]
  },
  {
   "cell_type": "code",
   "execution_count": null,
   "metadata": {
    "collapsed": true
   },
   "outputs": [],
   "source": [
    "### Run the predictions here and use the model to output the prediction for each image.\n",
    "### Make sure to pre-process the images with the same pre-processing pipeline used earlier.\n",
    "### Feel free to use as many code cells as needed."
   ]
  },
  {
   "cell_type": "markdown",
   "metadata": {},
   "source": [
    "### Analyze Performance"
   ]
  },
  {
   "cell_type": "code",
   "execution_count": null,
   "metadata": {
    "collapsed": true
   },
   "outputs": [],
   "source": [
    "### Calculate the accuracy for these 5 new images. \n",
    "### For example, if the model predicted 1 out of 5 signs correctly, it's 20% accurate on these new images."
   ]
  },
  {
   "cell_type": "markdown",
   "metadata": {},
   "source": [
    "### Output Top 5 Softmax Probabilities For Each Image Found on the Web"
   ]
  },
  {
   "cell_type": "markdown",
   "metadata": {},
   "source": [
    "For each of the new images, print out the model's softmax probabilities to show the **certainty** of the model's predictions (limit the output to the top 5 probabilities for each image). [`tf.nn.top_k`](https://www.tensorflow.org/versions/r0.12/api_docs/python/nn.html#top_k) could prove helpful here. \n",
    "\n",
    "The example below demonstrates how tf.nn.top_k can be used to find the top k predictions for each image.\n",
    "\n",
    "`tf.nn.top_k` will return the values and indices (class ids) of the top k predictions. So if k=3, for each sign, it'll return the 3 largest probabilities (out of a possible 43) and the correspoding class ids.\n",
    "\n",
    "Take this numpy array as an example. The values in the array represent predictions. The array contains softmax probabilities for five candidate images with six possible classes. `tf.nn.top_k` is used to choose the three classes with the highest probability:\n",
    "\n",
    "```\n",
    "# (5, 6) array\n",
    "a = np.array([[ 0.24879643,  0.07032244,  0.12641572,  0.34763842,  0.07893497,\n",
    "         0.12789202],\n",
    "       [ 0.28086119,  0.27569815,  0.08594638,  0.0178669 ,  0.18063401,\n",
    "         0.15899337],\n",
    "       [ 0.26076848,  0.23664738,  0.08020603,  0.07001922,  0.1134371 ,\n",
    "         0.23892179],\n",
    "       [ 0.11943333,  0.29198961,  0.02605103,  0.26234032,  0.1351348 ,\n",
    "         0.16505091],\n",
    "       [ 0.09561176,  0.34396535,  0.0643941 ,  0.16240774,  0.24206137,\n",
    "         0.09155967]])\n",
    "```\n",
    "\n",
    "Running it through `sess.run(tf.nn.top_k(tf.constant(a), k=3))` produces:\n",
    "\n",
    "```\n",
    "TopKV2(values=array([[ 0.34763842,  0.24879643,  0.12789202],\n",
    "       [ 0.28086119,  0.27569815,  0.18063401],\n",
    "       [ 0.26076848,  0.23892179,  0.23664738],\n",
    "       [ 0.29198961,  0.26234032,  0.16505091],\n",
    "       [ 0.34396535,  0.24206137,  0.16240774]]), indices=array([[3, 0, 5],\n",
    "       [0, 1, 4],\n",
    "       [0, 5, 1],\n",
    "       [1, 3, 5],\n",
    "       [1, 4, 3]], dtype=int32))\n",
    "```\n",
    "\n",
    "Looking just at the first row we get `[ 0.34763842,  0.24879643,  0.12789202]`, you can confirm these are the 3 largest probabilities in `a`. You'll also notice `[3, 0, 5]` are the corresponding indices."
   ]
  },
  {
   "cell_type": "code",
   "execution_count": null,
   "metadata": {
    "collapsed": true
   },
   "outputs": [],
   "source": [
    "### Print out the top five softmax probabilities for the predictions on the German traffic sign images found on the web. \n",
    "### Feel free to use as many code cells as needed."
   ]
  },
  {
   "cell_type": "markdown",
   "metadata": {},
   "source": [
    "### Project Writeup\n",
    "\n",
    "Once you have completed the code implementation, document your results in a project writeup using this [template](https://github.com/udacity/CarND-Traffic-Sign-Classifier-Project/blob/master/writeup_template.md) as a guide. The writeup can be in a markdown or pdf file. "
   ]
  },
  {
   "cell_type": "markdown",
   "metadata": {},
   "source": [
    "> **Note**: Once you have completed all of the code implementations and successfully answered each question above, you may finalize your work by exporting the iPython Notebook as an HTML document. You can do this by using the menu above and navigating to  \\n\",\n",
    "    \"**File -> Download as -> HTML (.html)**. Include the finished document along with this notebook as your submission."
   ]
  },
  {
   "cell_type": "markdown",
   "metadata": {},
   "source": [
    "---\n",
    "\n",
    "## Step 4 (Optional): Visualize the Neural Network's State with Test Images\n",
    "\n",
    " This Section is not required to complete but acts as an additional excersise for understaning the output of a neural network's weights. While neural networks can be a great learning device they are often referred to as a black box. We can understand what the weights of a neural network look like better by plotting their feature maps. After successfully training your neural network you can see what it's feature maps look like by plotting the output of the network's weight layers in response to a test stimuli image. From these plotted feature maps, it's possible to see what characteristics of an image the network finds interesting. For a sign, maybe the inner network feature maps react with high activation to the sign's boundary outline or to the contrast in the sign's painted symbol.\n",
    "\n",
    " Provided for you below is the function code that allows you to get the visualization output of any tensorflow weight layer you want. The inputs to the function should be a stimuli image, one used during training or a new one you provided, and then the tensorflow variable name that represents the layer's state during the training process, for instance if you wanted to see what the [LeNet lab's](https://classroom.udacity.com/nanodegrees/nd013/parts/fbf77062-5703-404e-b60c-95b78b2f3f9e/modules/6df7ae49-c61c-4bb2-a23e-6527e69209ec/lessons/601ae704-1035-4287-8b11-e2c2716217ad/concepts/d4aca031-508f-4e0b-b493-e7b706120f81) feature maps looked like for it's second convolutional layer you could enter conv2 as the tf_activation variable.\n",
    "\n",
    "For an example of what feature map outputs look like, check out NVIDIA's results in their paper [End-to-End Deep Learning for Self-Driving Cars](https://devblogs.nvidia.com/parallelforall/deep-learning-self-driving-cars/) in the section Visualization of internal CNN State. NVIDIA was able to show that their network's inner weights had high activations to road boundary lines by comparing feature maps from an image with a clear path to one without. Try experimenting with a similar test to show that your trained network's weights are looking for interesting features, whether it's looking at differences in feature maps from images with or without a sign, or even what feature maps look like in a trained network vs a completely untrained one on the same sign image.\n",
    "\n",
    "<figure>\n",
    " <img src=\"visualize_cnn.png\" width=\"380\" alt=\"Combined Image\" />\n",
    " <figcaption>\n",
    " <p></p> \n",
    " <p style=\"text-align: center;\"> Your output should look something like this (above)</p> \n",
    " </figcaption>\n",
    "</figure>\n",
    " <p></p> \n"
   ]
  },
  {
   "cell_type": "code",
   "execution_count": null,
   "metadata": {
    "collapsed": true
   },
   "outputs": [],
   "source": [
    "### Visualize your network's feature maps here.\n",
    "### Feel free to use as many code cells as needed.\n",
    "\n",
    "# image_input: the test image being fed into the network to produce the feature maps\n",
    "# tf_activation: should be a tf variable name used during your training procedure that represents the calculated state of a specific weight layer\n",
    "# activation_min/max: can be used to view the activation contrast in more detail, by default matplot sets min and max to the actual min and max values of the output\n",
    "# plt_num: used to plot out multiple different weight feature map sets on the same block, just extend the plt number for each new feature map entry\n",
    "\n",
    "def outputFeatureMap(image_input, tf_activation, activation_min=-1, activation_max=-1 ,plt_num=1):\n",
    "    # Here make sure to preprocess your image_input in a way your network expects\n",
    "    # with size, normalization, ect if needed\n",
    "    # image_input =\n",
    "    # Note: x should be the same name as your network's tensorflow data placeholder variable\n",
    "    # If you get an error tf_activation is not defined it may be having trouble accessing the variable from inside a function\n",
    "    activation = tf_activation.eval(session=sess,feed_dict={x : image_input})\n",
    "    featuremaps = activation.shape[3]\n",
    "    plt.figure(plt_num, figsize=(15,15))\n",
    "    for featuremap in range(featuremaps):\n",
    "        plt.subplot(6,8, featuremap+1) # sets the number of feature maps to show on each row and column\n",
    "        plt.title('FeatureMap ' + str(featuremap)) # displays the feature map number\n",
    "        if activation_min != -1 & activation_max != -1:\n",
    "            plt.imshow(activation[0,:,:, featuremap], interpolation=\"nearest\", vmin =activation_min, vmax=activation_max, cmap=\"gray\")\n",
    "        elif activation_max != -1:\n",
    "            plt.imshow(activation[0,:,:, featuremap], interpolation=\"nearest\", vmax=activation_max, cmap=\"gray\")\n",
    "        elif activation_min !=-1:\n",
    "            plt.imshow(activation[0,:,:, featuremap], interpolation=\"nearest\", vmin=activation_min, cmap=\"gray\")\n",
    "        else:\n",
    "            plt.imshow(activation[0,:,:, featuremap], interpolation=\"nearest\", cmap=\"gray\")"
   ]
  },
  {
   "cell_type": "code",
   "execution_count": 1,
   "metadata": {},
   "outputs": [
    {
     "name": "stdout",
     "output_type": "stream",
     "text": [
      "['/cpu:0']\n"
     ]
    }
   ],
   "source": [
    "from tensorflow.python.client import device_lib\n",
    "\n",
    "def get_available_devices():  \n",
    "    local_device_protos = device_lib.list_local_devices()\n",
    "    return [x.name for x in local_device_protos]\n",
    "\n",
    "print(get_available_devices()) "
   ]
  },
  {
   "cell_type": "code",
   "execution_count": null,
   "metadata": {
    "collapsed": true
   },
   "outputs": [],
   "source": []
  }
 ],
 "metadata": {
  "anaconda-cloud": {},
  "kernelspec": {
   "display_name": "Python [default]",
   "language": "python",
   "name": "python3"
  },
  "language_info": {
   "codemirror_mode": {
    "name": "ipython",
    "version": 3
   },
   "file_extension": ".py",
   "mimetype": "text/x-python",
   "name": "python",
   "nbconvert_exporter": "python",
   "pygments_lexer": "ipython3",
   "version": "3.5.2"
  },
  "widgets": {
   "state": {},
   "version": "1.1.2"
  }
 },
 "nbformat": 4,
 "nbformat_minor": 1
}
